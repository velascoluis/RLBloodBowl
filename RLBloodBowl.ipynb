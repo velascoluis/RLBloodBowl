{
 "cells": [
  {
   "cell_type": "markdown",
   "metadata": {
    "colab_type": "text",
    "id": "P-Jk4pxxdPgn"
   },
   "source": [
    "# BloodBowlRL - Stable 3\n",
    "\n",
    "\n",
    "\n"
   ]
  },
  {
   "cell_type": "markdown",
   "metadata": {
    "colab_type": "text",
    "id": "Ewh4vDIhmXsM"
   },
   "source": [
    "### Imports"
   ]
  },
  {
   "cell_type": "code",
   "execution_count": 1,
   "metadata": {
    "colab": {},
    "colab_type": "code",
    "id": "9TR2Iu8nmUa5"
   },
   "outputs": [
    {
     "name": "stderr",
     "output_type": "stream",
     "text": [
      "WARNING:root:Argument blacklist is deprecated. Please use denylist.\n",
      "WARNING:root:Argument blacklist is deprecated. Please use denylist.\n"
     ]
    }
   ],
   "source": [
    "from enum import Enum\n",
    "import tensorflow as tf\n",
    "import numpy as np\n",
    "import pandas as pd\n",
    "import matplotlib.pyplot as plt\n",
    "\n",
    "from tf_agents.environments import py_environment\n",
    "from tf_agents.environments import tf_environment\n",
    "from tf_agents.environments import tf_py_environment\n",
    "from tf_agents.environments import utils\n",
    "from tf_agents.specs import array_spec\n",
    "from tf_agents.trajectories import time_step as timeStep\n",
    "\n",
    "from tf_agents.policies import random_tf_policy\n",
    "\n",
    "from tf_agents.metrics import tf_py_metric\n",
    "from tf_agents.metrics import tf_metrics\n",
    "from tf_agents.metrics import py_metric\n",
    "from tf_agents.drivers import py_driver\n",
    "from tf_agents.drivers import dynamic_episode_driver\n",
    "\n",
    "from tf_agents.agents.dqn import dqn_agent\n",
    "from tf_agents.drivers import dynamic_step_driver\n",
    "from tf_agents.networks import q_network\n",
    "from tf_agents.replay_buffers import tf_uniform_replay_buffer\n",
    "\n",
    "from tf_agents.policies import random_tf_policy\n",
    "from tf_agents.trajectories import trajectory\n",
    "from tf_agents.utils import common\n",
    "\n",
    "from tf_agents.policies import policy_saver"
   ]
  },
  {
   "cell_type": "code",
   "execution_count": 2,
   "metadata": {
    "colab": {},
    "colab_type": "code",
    "id": "IntHDzBbmUa_"
   },
   "outputs": [],
   "source": [
    "def column(matrix, i):\n",
    "    return [row[i] for row in matrix]"
   ]
  },
  {
   "cell_type": "markdown",
   "metadata": {
    "colab_type": "text",
    "id": "GyuIf4RnmUbC"
   },
   "source": [
    "### Game Environment"
   ]
  },
  {
   "cell_type": "code",
   "execution_count": 3,
   "metadata": {
    "colab": {},
    "colab_type": "code",
    "id": "Bus9l_BKmUbD"
   },
   "outputs": [],
   "source": [
    "class ActionResult(Enum):\n",
    "    VALID_MOVE = 1\n",
    "    ILLEGAL_MOVE = 2\n",
    "    FOUND_BALL = 3\n",
    "    FOUND_ENEMY = 4\n",
    "    GAME_COMPLETE_WITH_BALL = 6"
   ]
  },
  {
   "cell_type": "code",
   "execution_count": 4,
   "metadata": {},
   "outputs": [],
   "source": [
    "#class GameData(Enum):\n",
    "PITCH_SIZE = 15\n",
    "PLAYER_TOKEN = 1\n",
    "ENEMY_TOKEN = 2\n",
    "BALL_TOKEN = 3\n",
    "EMPTY_TOKEN = 0\n",
    "MOVE_LEFT = -1\n",
    "MOVE_RIGHT = 1\n",
    "MOVE_UP = PITCH_SIZE\n",
    "MOVE_DOWN = - PITCH_SIZE\n",
    "REWARD_TOCHDOWN = 100\n",
    "REWARD_GET_BALL = 10\n",
    "REWARD_ENEMY = -0.5\n",
    "REWARD_TRANSITION = -0.3\n",
    "REWARD_ILLEGAL_MOVE = -10\n"
   ]
  },
  {
   "cell_type": "code",
   "execution_count": 5,
   "metadata": {},
   "outputs": [],
   "source": [
    "ball_location = [124]\n",
    "enemy_locations = [48,158,106,36,191,61]\n",
    "initial_player_location = 4"
   ]
  },
  {
   "cell_type": "code",
   "execution_count": 6,
   "metadata": {
    "colab": {},
    "colab_type": "code",
    "id": "9hzlg6JMmUbF"
   },
   "outputs": [],
   "source": [
    "class AlphaBowl():\n",
    "    def __init__(self, ball_location, enemy_locations, initial_player_location):\n",
    "        self._state = np.zeros((PITCH_SIZE * PITCH_SIZE,),dtype=np.int32)\n",
    "        self._enemy_locations = enemy_locations\n",
    "        self._ball_location = ball_location\n",
    "        self._state[self._enemy_locations] = ENEMY_TOKEN\n",
    "        self._state[self._ball_location] = BALL_TOKEN\n",
    "        self._state[initial_player_location] = PLAYER_TOKEN\n",
    "        self._carriyng_ball = False\n",
    "        self._game_ended = False\n",
    "\n",
    "    \n",
    "    def update_enemy_locations (enemy_locations):\n",
    "        self._enemy_locations = enemy_locations\n",
    "    \n",
    "    def reset(self):\n",
    "        self._state = np.zeros((PITCH_SIZE*PITCH_SIZE,),dtype=np.int32)\n",
    "        self._state[self._enemy_locations] = ENEMY_TOKEN\n",
    "        self._state[self._ball_location] = BALL_TOKEN\n",
    "        self._state[initial_player_location] = PLAYER_TOKEN\n",
    "        self._carriyng_ball = False\n",
    "        self._game_ended = False\n",
    "\n",
    "    def __is_spot_last(self, position):\n",
    "        return (  ((position + 1) % PITCH_SIZE == 0)   or ((position) % PITCH_SIZE == 0))\n",
    "\n",
    "    \n",
    "    def __is_carrying_ball(self):\n",
    "        return self._carriyng_ball\n",
    "\n",
    "    def move_player(self, current_position, next_position):\n",
    "\n",
    "        if (self.__is_spot_last(next_position)):\n",
    "        \n",
    "            self._state[current_position] = EMPTY_TOKEN\n",
    "            self._state[next_position] = PLAYER_TOKEN\n",
    "            self._game_ended = True\n",
    "            if(self.__is_carrying_ball()):\n",
    "                return ActionResult.GAME_COMPLETE_WITH_BALL\n",
    "\n",
    "        if next_position < 0 or next_position > (len(self._state) - 1):\n",
    "            self._game_ended = True\n",
    "            return ActionResult.ILLEGAL_MOVE\n",
    "\n",
    "        if self._state[next_position] == ENEMY_TOKEN:\n",
    "            self._game_ended = True\n",
    "            return ActionResult.FOUND_ENEMY\n",
    "\n",
    "        if self._state[next_position] == BALL_TOKEN:\n",
    "            self._state[current_position] = EMPTY_TOKEN\n",
    "            self._state[next_position] = PLAYER_TOKEN\n",
    "            self._carriyng_ball = True\n",
    "            return ActionResult.FOUND_BALL\n",
    "\n",
    "        self._state[current_position] = EMPTY_TOKEN\n",
    "        self._state[next_position] = PLAYER_TOKEN\n",
    "\n",
    "        return ActionResult.VALID_MOVE\n",
    "\n",
    "    def game_ended(self):\n",
    "        return self._game_ended\n",
    "  \n",
    "    def game_state(self):\n",
    "        return self._state"
   ]
  },
  {
   "cell_type": "code",
   "execution_count": 7,
   "metadata": {
    "colab": {},
    "colab_type": "code",
    "id": "d3SapAR6mUbI"
   },
   "outputs": [],
   "source": [
    "class AlphaBowlEnvironment(py_environment.PyEnvironment):\n",
    "\n",
    "    def __init__(self, game):\n",
    "        self._action_spec = array_spec.BoundedArraySpec(\n",
    "            shape=(), dtype=np.int32, minimum=0, maximum=3, name='action')\n",
    "        self._observation_spec = array_spec.BoundedArraySpec(\n",
    "            shape=(PITCH_SIZE * PITCH_SIZE,), dtype=np.int32, minimum=0, maximum=3, name='observation')\n",
    "\n",
    "        \n",
    "        self._action_values = {0:MOVE_LEFT,\n",
    "                               1:MOVE_RIGHT,\n",
    "                               2:MOVE_DOWN,\n",
    "                               3:MOVE_UP}\n",
    "        self._game = game\n",
    "\n",
    "    def action_spec(self):\n",
    "        return self._action_spec\n",
    "\n",
    "    def observation_spec(self):\n",
    "        return self._observation_spec\n",
    "\n",
    "    def _reset(self):\n",
    "        self._game.reset()\n",
    "        return timeStep.restart(self._game.game_state())\n",
    "  \n",
    "    def _step(self, action):    \n",
    "\n",
    "        if self._game.game_ended():\n",
    "            return self.reset()\n",
    "\n",
    "        action = action.item()\n",
    "\n",
    "        next_agent_position_direction = self._action_values.get(action)\n",
    "        current_agent_position = np.where(self._game.game_state() == PLAYER_TOKEN)[0].item()\n",
    "        new_agent_position = current_agent_position + next_agent_position_direction\n",
    "\n",
    "        response = self._game.move_player(current_agent_position,new_agent_position)\n",
    "\n",
    "        \n",
    "        if response == ActionResult.GAME_COMPLETE_WITH_BALL:\n",
    "            return timeStep.termination(self._game.game_state(), REWARD_TOCHDOWN)\n",
    "\n",
    "        elif response == ActionResult.ILLEGAL_MOVE:\n",
    "            return timeStep.termination(self._game.game_state(), REWARD_ILLEGAL_MOVE)\n",
    "\n",
    "        elif response == ActionResult.FOUND_ENEMY:\n",
    "            return timeStep.termination(self._game.game_state(), REWARD_ENEMY)\n",
    "\n",
    "        elif response == ActionResult.FOUND_BALL:\n",
    "            return timeStep.transition(self._game.game_state(), reward=REWARD_GET_BALL, discount=1.5)\n",
    "\n",
    "        return timeStep.transition(self._game.game_state(), reward=REWARD_TRANSITION, discount=1.0)"
   ]
  },
  {
   "cell_type": "code",
   "execution_count": 8,
   "metadata": {
    "colab": {},
    "colab_type": "code",
    "id": "VlqOqLVjmUbM"
   },
   "outputs": [],
   "source": [
    "bowlEnvironment = AlphaBowlEnvironment(AlphaBowl(ball_location, enemy_locations, initial_player_location))\n",
    "utils.validate_py_environment(bowlEnvironment, episodes=5)"
   ]
  },
  {
   "cell_type": "code",
   "execution_count": 9,
   "metadata": {
    "colab": {},
    "colab_type": "code",
    "id": "0cAPcMOVmUbP"
   },
   "outputs": [],
   "source": [
    "train_env = tf_py_environment.TFPyEnvironment(bowlEnvironment)\n",
    "eval_env = tf_py_environment.TFPyEnvironment(bowlEnvironment)"
   ]
  },
  {
   "cell_type": "markdown",
   "metadata": {
    "colab_type": "text",
    "id": "kX7HUh8CmUbS"
   },
   "source": [
    "### DQN Setup"
   ]
  },
  {
   "cell_type": "code",
   "execution_count": 10,
   "metadata": {
    "colab": {},
    "colab_type": "code",
    "id": "-6Puep_3mUbT"
   },
   "outputs": [],
   "source": [
    "fc_layer_params = [32,64,128,256,512]\n",
    "\n",
    "q_net = q_network.QNetwork(\n",
    "            train_env.observation_spec(),\n",
    "            train_env.action_spec(),\n",
    "            fc_layer_params = fc_layer_params\n",
    "        )\n",
    "\n",
    "train_step = tf.Variable(0)\n",
    "update_period = 4\n",
    "optimizer = tf.keras.optimizers.Adam(lr=2.5e-4, epsilon=0.00001)\n",
    "\n",
    "epsilon_fn = tf.keras.optimizers.schedules.PolynomialDecay(\n",
    "                initial_learning_rate=1.0, \n",
    "                decay_steps=250000 // update_period,\n",
    "                end_learning_rate=0.01)\n",
    "\n",
    "agent = dqn_agent.DdqnAgent(\n",
    "        train_env.time_step_spec(),\n",
    "        train_env.action_spec(),\n",
    "        q_network=q_net,\n",
    "        optimizer=optimizer,\n",
    "        target_update_period=2000,\n",
    "        td_errors_loss_fn=tf.keras.losses.Huber(reduction=\"none\"),\n",
    "        gamma=0.99,\n",
    "        train_step_counter=train_step,\n",
    "        epsilon_greedy=lambda: epsilon_fn(train_step))\n",
    "\n",
    "agent.initialize()"
   ]
  },
  {
   "cell_type": "markdown",
   "metadata": {
    "colab_type": "text",
    "id": "b1K-TbC-mUbW"
   },
   "source": [
    "### Replay Buffer Setup"
   ]
  },
  {
   "cell_type": "code",
   "execution_count": 11,
   "metadata": {
    "colab": {},
    "colab_type": "code",
    "id": "GMUtN6pCmUbW"
   },
   "outputs": [],
   "source": [
    "replay_buffer = tf_uniform_replay_buffer.TFUniformReplayBuffer(\n",
    "    data_spec=agent.collect_data_spec,\n",
    "    batch_size=train_env.batch_size,\n",
    "    max_length=1000000)\n",
    "\n",
    "replay_buffer_observer = replay_buffer.add_batch"
   ]
  },
  {
   "cell_type": "markdown",
   "metadata": {
    "colab_type": "text",
    "id": "VhIuhtDrmUbZ"
   },
   "source": [
    "### Metrics Setup"
   ]
  },
  {
   "cell_type": "code",
   "execution_count": 12,
   "metadata": {
    "colab": {},
    "colab_type": "code",
    "id": "0i5MQ70lmUba"
   },
   "outputs": [],
   "source": [
    "train_metrics = [tf_metrics.AverageReturnMetric(), tf_metrics.AverageEpisodeLengthMetric()]"
   ]
  },
  {
   "cell_type": "markdown",
   "metadata": {
    "colab_type": "text",
    "id": "UkapWi9ymUbd"
   },
   "source": [
    "### Driver Setup"
   ]
  },
  {
   "cell_type": "code",
   "execution_count": 13,
   "metadata": {
    "colab": {},
    "colab_type": "code",
    "id": "-IcV5lMdmUbd"
   },
   "outputs": [],
   "source": [
    "collect_driver = dynamic_step_driver.DynamicStepDriver(\n",
    "    train_env,\n",
    "    agent.collect_policy,\n",
    "    observers=[replay_buffer_observer] + train_metrics,\n",
    "    num_steps=update_period)"
   ]
  },
  {
   "cell_type": "markdown",
   "metadata": {
    "colab_type": "text",
    "id": "ezQUO1qrmUbh"
   },
   "source": [
    "### Collect trajectories using Random Policy"
   ]
  },
  {
   "cell_type": "code",
   "execution_count": 14,
   "metadata": {
    "colab": {},
    "colab_type": "code",
    "id": "uyOgEIPZmUbh"
   },
   "outputs": [],
   "source": [
    "class ShowProgress:\n",
    "    def __init__(self, total):\n",
    "        self.counter = 0\n",
    "        self.total = total\n",
    "    def __call__(self, trajectory):\n",
    "        if not trajectory.is_boundary():\n",
    "            self.counter += 1\n",
    "        if self.counter % 100 == 0:\n",
    "            print(\"\\r{}/{}\".format(self.counter, self.total), end=\"\")"
   ]
  },
  {
   "cell_type": "code",
   "execution_count": 15,
   "metadata": {
    "colab": {
     "base_uri": "https://localhost:8080/",
     "height": 173
    },
    "colab_type": "code",
    "id": "2uAKdr4xmUbj",
    "outputId": "6a08139c-ab27-4927-deb7-31e5841f72f4"
   },
   "outputs": [
    {
     "name": "stdout",
     "output_type": "stream",
     "text": [
      "WARNING:tensorflow:From /Users/velascoluis/miniconda3/lib/python3.7/site-packages/tf_agents/drivers/dynamic_step_driver.py:203: calling while_loop_v2 (from tensorflow.python.ops.control_flow_ops) with back_prop=False is deprecated and will be removed in a future version.\n",
      "Instructions for updating:\n",
      "back_prop=False is deprecated. Consider using tf.stop_gradient instead.\n",
      "Instead of:\n",
      "results = tf.while_loop(c, b, vars, back_prop=False)\n",
      "Use:\n",
      "results = tf.nest.map_structure(tf.stop_gradient, tf.while_loop(c, b, vars))\n"
     ]
    },
    {
     "name": "stderr",
     "output_type": "stream",
     "text": [
      "WARNING:tensorflow:From /Users/velascoluis/miniconda3/lib/python3.7/site-packages/tf_agents/drivers/dynamic_step_driver.py:203: calling while_loop_v2 (from tensorflow.python.ops.control_flow_ops) with back_prop=False is deprecated and will be removed in a future version.\n",
      "Instructions for updating:\n",
      "back_prop=False is deprecated. Consider using tf.stop_gradient instead.\n",
      "Instead of:\n",
      "results = tf.while_loop(c, b, vars, back_prop=False)\n",
      "Use:\n",
      "results = tf.nest.map_structure(tf.stop_gradient, tf.while_loop(c, b, vars))\n"
     ]
    },
    {
     "name": "stdout",
     "output_type": "stream",
     "text": [
      "30000/30000"
     ]
    }
   ],
   "source": [
    "initial_collect_policy = random_tf_policy.RandomTFPolicy(train_env.time_step_spec(), train_env.action_spec())\n",
    "\n",
    "init_driver = dynamic_step_driver.DynamicStepDriver(\n",
    "    train_env,\n",
    "    initial_collect_policy,\n",
    "    observers=[replay_buffer.add_batch, ShowProgress(30000)],\n",
    "    num_steps=30000)\n",
    "\n",
    "final_time_step, final_policy_state = init_driver.run()"
   ]
  },
  {
   "cell_type": "markdown",
   "metadata": {
    "colab_type": "text",
    "id": "kYTpBQUkmUbn"
   },
   "source": [
    "### Verify collected trajectories"
   ]
  },
  {
   "cell_type": "code",
   "execution_count": 16,
   "metadata": {
    "colab": {},
    "colab_type": "code",
    "id": "Pk4RHXm9mUbn"
   },
   "outputs": [
    {
     "name": "stdout",
     "output_type": "stream",
     "text": [
      "WARNING:tensorflow:From <ipython-input-16-ab9318a97084>:1: ReplayBuffer.get_next (from tf_agents.replay_buffers.replay_buffer) is deprecated and will be removed in a future version.\n",
      "Instructions for updating:\n",
      "Use `as_dataset(..., single_deterministic_pass=False) instead.\n"
     ]
    },
    {
     "name": "stderr",
     "output_type": "stream",
     "text": [
      "WARNING:tensorflow:From <ipython-input-16-ab9318a97084>:1: ReplayBuffer.get_next (from tf_agents.replay_buffers.replay_buffer) is deprecated and will be removed in a future version.\n",
      "Instructions for updating:\n",
      "Use `as_dataset(..., single_deterministic_pass=False) instead.\n"
     ]
    }
   ],
   "source": [
    "trajectories, buffer_info = replay_buffer.get_next(sample_batch_size=2, num_steps=10)"
   ]
  },
  {
   "cell_type": "code",
   "execution_count": 17,
   "metadata": {
    "colab": {
     "base_uri": "https://localhost:8080/",
     "height": 136
    },
    "colab_type": "code",
    "id": "vYLW7wy5mUbq",
    "outputId": "b90388ba-7f85-46d7-8f4e-63c736399a74"
   },
   "outputs": [
    {
     "data": {
      "text/plain": [
       "('step_type',\n",
       " 'observation',\n",
       " 'action',\n",
       " 'policy_info',\n",
       " 'next_step_type',\n",
       " 'reward',\n",
       " 'discount')"
      ]
     },
     "execution_count": 17,
     "metadata": {},
     "output_type": "execute_result"
    }
   ],
   "source": [
    "trajectories._fields"
   ]
  },
  {
   "cell_type": "code",
   "execution_count": 18,
   "metadata": {
    "colab": {
     "base_uri": "https://localhost:8080/",
     "height": 34
    },
    "colab_type": "code",
    "id": "V_HQPnlmmUbu",
    "outputId": "85ecf510-3c5f-4261-efd0-e273f92a4877"
   },
   "outputs": [
    {
     "data": {
      "text/plain": [
       "TensorShape([2, 9, 225])"
      ]
     },
     "execution_count": 18,
     "metadata": {},
     "output_type": "execute_result"
    }
   ],
   "source": [
    "time_steps, action_steps, next_time_steps = trajectory.to_transition(trajectories)\n",
    "time_steps.observation.shape"
   ]
  },
  {
   "cell_type": "markdown",
   "metadata": {
    "colab_type": "text",
    "id": "m1JSZytOmUbw"
   },
   "source": [
    "### Create Dataset from Replay Buffer"
   ]
  },
  {
   "cell_type": "code",
   "execution_count": 19,
   "metadata": {
    "colab": {},
    "colab_type": "code",
    "id": "o3pdUIXNmUbx"
   },
   "outputs": [],
   "source": [
    "dataset = replay_buffer.as_dataset(sample_batch_size=500, num_steps=2, num_parallel_calls=3).prefetch(3)"
   ]
  },
  {
   "cell_type": "markdown",
   "metadata": {
    "colab_type": "text",
    "id": "OyKraEGImUb1"
   },
   "source": [
    "### Run it under common function to make it faster"
   ]
  },
  {
   "cell_type": "code",
   "execution_count": 20,
   "metadata": {
    "colab": {},
    "colab_type": "code",
    "id": "_clLUYhOmUb2"
   },
   "outputs": [],
   "source": [
    "collect_driver.run = common.function(collect_driver.run)\n",
    "agent.train = common.function(agent.train)"
   ]
  },
  {
   "cell_type": "markdown",
   "metadata": {
    "colab_type": "text",
    "id": "4zdLcViImUb4"
   },
   "source": [
    "### Train"
   ]
  },
  {
   "cell_type": "code",
   "execution_count": 21,
   "metadata": {
    "colab": {},
    "colab_type": "code",
    "id": "Us8GoWQgmUb4"
   },
   "outputs": [],
   "source": [
    "all_train_loss = []\n",
    "all_metrics = []"
   ]
  },
  {
   "cell_type": "code",
   "execution_count": 22,
   "metadata": {
    "colab": {},
    "colab_type": "code",
    "id": "yObMKoVAmUb7"
   },
   "outputs": [],
   "source": [
    "def train_agent(n_iterations):\n",
    "    time_step = None\n",
    "    policy_state = agent.collect_policy.get_initial_state(train_env.batch_size)\n",
    "    iterator = iter(dataset)\n",
    "    \n",
    "    for iteration in range(n_iterations):\n",
    "        current_metrics = []\n",
    "        \n",
    "        time_step, policy_state = collect_driver.run(time_step, policy_state)\n",
    "        trajectories, buffer_info = next(iterator)\n",
    "        \n",
    "        train_loss = agent.train(trajectories)\n",
    "        all_train_loss.append(train_loss.loss.numpy())\n",
    "\n",
    "        for i in range(len(train_metrics)):\n",
    "            current_metrics.append(train_metrics[i].result().numpy())\n",
    "            \n",
    "        all_metrics.append(current_metrics)\n",
    "        \n",
    "        if iteration % 500 == 0:\n",
    "            print(\"\\nIteration: {}, loss:{:.2f}\".format(iteration, train_loss.loss.numpy()))\n",
    "            \n",
    "            for i in range(len(train_metrics)):\n",
    "                print('{}: {}'.format(train_metrics[i].name, train_metrics[i].result().numpy()))"
   ]
  },
  {
   "cell_type": "code",
   "execution_count": 23,
   "metadata": {
    "colab": {
     "base_uri": "https://localhost:8080/",
     "height": 1000
    },
    "colab_type": "code",
    "id": "21BCPfWomUb-",
    "outputId": "c6d325b4-8965-4b14-b404-6e4a01de8d15",
    "scrolled": false
   },
   "outputs": [
    {
     "name": "stdout",
     "output_type": "stream",
     "text": [
      "WARNING:tensorflow:From /Users/velascoluis/miniconda3/lib/python3.7/site-packages/tensorflow/python/util/dispatch.py:201: calling foldr_v2 (from tensorflow.python.ops.functional_ops) with back_prop=False is deprecated and will be removed in a future version.\n",
      "Instructions for updating:\n",
      "back_prop=False is deprecated. Consider using tf.stop_gradient instead.\n",
      "Instead of:\n",
      "results = tf.foldr(fn, elems, back_prop=False)\n",
      "Use:\n",
      "results = tf.nest.map_structure(tf.stop_gradient, tf.foldr(fn, elems))\n"
     ]
    },
    {
     "name": "stderr",
     "output_type": "stream",
     "text": [
      "WARNING:tensorflow:From /Users/velascoluis/miniconda3/lib/python3.7/site-packages/tensorflow/python/util/dispatch.py:201: calling foldr_v2 (from tensorflow.python.ops.functional_ops) with back_prop=False is deprecated and will be removed in a future version.\n",
      "Instructions for updating:\n",
      "back_prop=False is deprecated. Consider using tf.stop_gradient instead.\n",
      "Instead of:\n",
      "results = tf.foldr(fn, elems, back_prop=False)\n",
      "Use:\n",
      "results = tf.nest.map_structure(tf.stop_gradient, tf.foldr(fn, elems))\n"
     ]
    },
    {
     "name": "stdout",
     "output_type": "stream",
     "text": [
      "\n",
      "Iteration: 0, loss:0.70\n",
      "AverageReturn: 0.0\n",
      "AverageEpisodeLength: 0.0\n",
      "\n",
      "Iteration: 500, loss:0.22\n",
      "AverageReturn: -10.629999160766602\n",
      "AverageEpisodeLength: 3.0999999046325684\n",
      "\n",
      "Iteration: 1000, loss:0.29\n",
      "AverageReturn: -7.069999694824219\n",
      "AverageEpisodeLength: 3.9000000953674316\n",
      "\n",
      "Iteration: 1500, loss:0.24\n",
      "AverageReturn: -10.65999984741211\n",
      "AverageEpisodeLength: 4.699999809265137\n",
      "\n",
      "Iteration: 2000, loss:0.24\n",
      "AverageReturn: -11.380000114440918\n",
      "AverageEpisodeLength: 15.300000190734863\n",
      "\n",
      "Iteration: 2500, loss:0.13\n",
      "AverageReturn: -9.320000648498535\n",
      "AverageEpisodeLength: 11.399999618530273\n",
      "\n",
      "Iteration: 3000, loss:0.17\n",
      "AverageReturn: -9.979999542236328\n",
      "AverageEpisodeLength: 4.099999904632568\n",
      "\n",
      "Iteration: 3500, loss:0.17\n",
      "AverageReturn: -8.899999618530273\n",
      "AverageEpisodeLength: 10.0\n",
      "\n",
      "Iteration: 4000, loss:0.19\n",
      "AverageReturn: -10.89000129699707\n",
      "AverageEpisodeLength: 11.0\n",
      "\n",
      "Iteration: 4500, loss:0.26\n",
      "AverageReturn: -8.5\n",
      "AverageEpisodeLength: 5.5\n",
      "\n",
      "Iteration: 5000, loss:0.15\n",
      "AverageReturn: -10.789999961853027\n",
      "AverageEpisodeLength: 6.800000190734863\n",
      "\n",
      "Iteration: 5500, loss:0.23\n",
      "AverageReturn: -10.920000076293945\n",
      "AverageEpisodeLength: 10.399999618530273\n",
      "\n",
      "Iteration: 6000, loss:0.52\n",
      "AverageReturn: -8.600000381469727\n",
      "AverageEpisodeLength: 9.0\n",
      "\n",
      "Iteration: 6500, loss:0.24\n",
      "AverageReturn: 0.8699987530708313\n",
      "AverageEpisodeLength: 13.399999618530273\n",
      "\n",
      "Iteration: 7000, loss:0.15\n",
      "AverageReturn: -7.710000038146973\n",
      "AverageEpisodeLength: 11.800000190734863\n",
      "\n",
      "Iteration: 7500, loss:0.17\n",
      "AverageReturn: -9.75\n",
      "AverageEpisodeLength: 7.599999904632568\n",
      "\n",
      "Iteration: 8000, loss:0.33\n",
      "AverageReturn: -8.630000114440918\n",
      "AverageEpisodeLength: 9.100000381469727\n",
      "\n",
      "Iteration: 8500, loss:0.26\n",
      "AverageReturn: -7.460000038146973\n",
      "AverageEpisodeLength: 6.5\n",
      "\n",
      "Iteration: 9000, loss:0.23\n",
      "AverageReturn: -8.510000228881836\n",
      "AverageEpisodeLength: 8.699999809265137\n",
      "\n",
      "Iteration: 9500, loss:0.28\n",
      "AverageReturn: -7.6999993324279785\n",
      "AverageEpisodeLength: 6.0\n",
      "\n",
      "Iteration: 10000, loss:0.66\n",
      "AverageReturn: -9.329999923706055\n",
      "AverageEpisodeLength: 5.099999904632568\n",
      "\n",
      "Iteration: 10500, loss:0.48\n",
      "AverageReturn: -6.090000152587891\n",
      "AverageEpisodeLength: 3.799999952316284\n",
      "\n",
      "Iteration: 11000, loss:0.48\n",
      "AverageReturn: -8.230000495910645\n",
      "AverageEpisodeLength: 4.599999904632568\n",
      "\n",
      "Iteration: 11500, loss:0.44\n",
      "AverageReturn: -4.679999828338623\n",
      "AverageEpisodeLength: 8.600000381469727\n",
      "\n",
      "Iteration: 12000, loss:0.72\n",
      "AverageReturn: -6.070000648498535\n",
      "AverageEpisodeLength: 6.900000095367432\n",
      "\n",
      "Iteration: 12500, loss:0.29\n",
      "AverageReturn: -6.03000020980835\n",
      "AverageEpisodeLength: 3.5999999046325684\n",
      "\n",
      "Iteration: 13000, loss:0.31\n",
      "AverageReturn: -5.510000228881836\n",
      "AverageEpisodeLength: 7.0\n",
      "\n",
      "Iteration: 13500, loss:0.33\n",
      "AverageReturn: -5.619999885559082\n",
      "AverageEpisodeLength: 5.400000095367432\n",
      "\n",
      "Iteration: 14000, loss:1.13\n",
      "AverageReturn: -6.279999732971191\n",
      "AverageEpisodeLength: 8.600000381469727\n",
      "\n",
      "Iteration: 14500, loss:0.69\n",
      "AverageReturn: -6.9800004959106445\n",
      "AverageEpisodeLength: 5.300000190734863\n",
      "\n",
      "Iteration: 15000, loss:0.90\n",
      "AverageReturn: -8.75999927520752\n",
      "AverageEpisodeLength: 19.299999237060547\n",
      "\n",
      "Iteration: 15500, loss:0.26\n",
      "AverageReturn: 1.510000467300415\n",
      "AverageEpisodeLength: 13.399999618530273\n",
      "\n",
      "Iteration: 16000, loss:2.11\n",
      "AverageReturn: -7.880000114440918\n",
      "AverageEpisodeLength: 6.599999904632568\n",
      "\n",
      "Iteration: 16500, loss:1.08\n",
      "AverageReturn: -5.710000038146973\n",
      "AverageEpisodeLength: 7.599999904632568\n",
      "\n",
      "Iteration: 17000, loss:0.51\n",
      "AverageReturn: -5.710000038146973\n",
      "AverageEpisodeLength: 7.900000095367432\n",
      "\n",
      "Iteration: 17500, loss:0.55\n",
      "AverageReturn: -7.390000343322754\n",
      "AverageEpisodeLength: 11.300000190734863\n",
      "\n",
      "Iteration: 18000, loss:2.43\n",
      "AverageReturn: 5.089999198913574\n",
      "AverageEpisodeLength: 18.0\n",
      "\n",
      "Iteration: 18500, loss:0.65\n",
      "AverageReturn: -8.059999465942383\n",
      "AverageEpisodeLength: 7.199999809265137\n",
      "\n",
      "Iteration: 19000, loss:0.76\n",
      "AverageReturn: 26.21999740600586\n",
      "AverageEpisodeLength: 16.399999618530273\n",
      "\n",
      "Iteration: 19500, loss:0.51\n",
      "AverageReturn: 2.3600001335144043\n",
      "AverageEpisodeLength: 9.399999618530273\n",
      "\n",
      "Iteration: 20000, loss:5.45\n",
      "AverageReturn: -9.110000610351562\n",
      "AverageEpisodeLength: 18.700000762939453\n",
      "\n",
      "Iteration: 20500, loss:1.20\n",
      "AverageReturn: 34.849998474121094\n",
      "AverageEpisodeLength: 29.899999618530273\n",
      "\n",
      "Iteration: 21000, loss:1.81\n",
      "AverageReturn: 14.529998779296875\n",
      "AverageEpisodeLength: 19.200000762939453\n",
      "\n",
      "Iteration: 21500, loss:0.67\n",
      "AverageReturn: 26.3799991607666\n",
      "AverageEpisodeLength: 12.699999809265137\n",
      "\n",
      "Iteration: 22000, loss:9.05\n",
      "AverageReturn: 34.83000183105469\n",
      "AverageEpisodeLength: 19.799999237060547\n",
      "\n",
      "Iteration: 22500, loss:1.51\n",
      "AverageReturn: 25.189998626708984\n",
      "AverageEpisodeLength: 26.700000762939453\n",
      "\n",
      "Iteration: 23000, loss:0.85\n",
      "AverageReturn: 14.929998397827148\n",
      "AverageEpisodeLength: 17.700000762939453\n",
      "\n",
      "Iteration: 23500, loss:0.70\n",
      "AverageReturn: 28.330001831054688\n",
      "AverageEpisodeLength: 14.0\n",
      "\n",
      "Iteration: 24000, loss:10.69\n",
      "AverageReturn: -0.8200012445449829\n",
      "AverageEpisodeLength: 17.100000381469727\n",
      "\n",
      "Iteration: 24500, loss:1.76\n",
      "AverageReturn: 22.479997634887695\n",
      "AverageEpisodeLength: 19.200000762939453\n",
      "\n",
      "Iteration: 25000, loss:2.13\n",
      "AverageReturn: 21.639995574951172\n",
      "AverageEpisodeLength: 19.0\n",
      "\n",
      "Iteration: 25500, loss:1.46\n",
      "AverageReturn: 14.75999927520752\n",
      "AverageEpisodeLength: 21.100000381469727\n",
      "\n",
      "Iteration: 26000, loss:17.17\n",
      "AverageReturn: 24.40999984741211\n",
      "AverageEpisodeLength: 16.100000381469727\n",
      "\n",
      "Iteration: 26500, loss:1.28\n",
      "AverageReturn: 32.46999740600586\n",
      "AverageEpisodeLength: 29.600000381469727\n",
      "\n",
      "Iteration: 27000, loss:1.75\n",
      "AverageReturn: 4.959999084472656\n",
      "AverageEpisodeLength: 17.100000381469727\n",
      "\n",
      "Iteration: 27500, loss:1.17\n",
      "AverageReturn: 35.75\n",
      "AverageEpisodeLength: 18.399999618530273\n",
      "\n",
      "Iteration: 28000, loss:30.22\n",
      "AverageReturn: 26.109996795654297\n",
      "AverageEpisodeLength: 13.600000381469727\n",
      "\n",
      "Iteration: 28500, loss:3.95\n",
      "AverageReturn: 37.840003967285156\n",
      "AverageEpisodeLength: 14.600000381469727\n",
      "\n",
      "Iteration: 29000, loss:4.44\n",
      "AverageReturn: 36.589996337890625\n",
      "AverageEpisodeLength: 16.600000381469727\n",
      "\n",
      "Iteration: 29500, loss:5.17\n",
      "AverageReturn: 17.600000381469727\n",
      "AverageEpisodeLength: 23.200000762939453\n",
      "\n",
      "Iteration: 30000, loss:39.57\n",
      "AverageReturn: 28.01999855041504\n",
      "AverageEpisodeLength: 17.0\n",
      "\n",
      "Iteration: 30500, loss:3.72\n",
      "AverageReturn: 29.579998016357422\n",
      "AverageEpisodeLength: 15.5\n",
      "\n",
      "Iteration: 31000, loss:3.06\n",
      "AverageReturn: 59.099998474121094\n",
      "AverageEpisodeLength: 17.600000381469727\n",
      "\n",
      "Iteration: 31500, loss:2.93\n",
      "AverageReturn: 49.900001525878906\n",
      "AverageEpisodeLength: 18.200000762939453\n",
      "\n",
      "Iteration: 32000, loss:42.08\n",
      "AverageReturn: 49.69999694824219\n",
      "AverageEpisodeLength: 18.600000381469727\n",
      "\n",
      "Iteration: 32500, loss:6.10\n",
      "AverageReturn: 46.79999923706055\n",
      "AverageEpisodeLength: 25.100000381469727\n",
      "\n",
      "Iteration: 33000, loss:7.64\n",
      "AverageReturn: 91.56999206542969\n",
      "AverageEpisodeLength: 26.5\n",
      "\n",
      "Iteration: 33500, loss:6.62\n",
      "AverageReturn: 49.290000915527344\n",
      "AverageEpisodeLength: 16.799999237060547\n",
      "\n",
      "Iteration: 34000, loss:39.34\n",
      "AverageReturn: 17.979999542236328\n",
      "AverageEpisodeLength: 13.800000190734863\n",
      "\n",
      "Iteration: 34500, loss:4.09\n",
      "AverageReturn: 28.25\n",
      "AverageEpisodeLength: 9.899999618530273\n"
     ]
    }
   ],
   "source": [
    "#train_agent(50000)\n",
    "train_agent(35000)"
   ]
  },
  {
   "cell_type": "code",
   "execution_count": 24,
   "metadata": {
    "colab": {},
    "colab_type": "code",
    "id": "1IWj-HR2mUcA"
   },
   "outputs": [],
   "source": [
    "avg_return_trained = column(all_metrics,0)\n",
    "avg_ep_trained = column(all_metrics,1)"
   ]
  },
  {
   "cell_type": "code",
   "execution_count": 25,
   "metadata": {
    "colab": {
     "base_uri": "https://localhost:8080/",
     "height": 893
    },
    "colab_type": "code",
    "id": "K_yP3g7VmUcD",
    "outputId": "b5b319cf-d094-411e-e27b-dfd6d2ca05dd"
   },
   "outputs": [
    {
     "data": {
      "image/png": "[encoded data removed]",
      "text/plain": [
       "<Figure size 1080x1080 with 2 Axes>"
      ]
     },
     "metadata": {
      "needs_background": "light"
     },
     "output_type": "display_data"
    }
   ],
   "source": [
    "fig, axs = plt.subplots(1, 2, figsize=(15,15))\n",
    "\n",
    "axs[0].plot(range(len(avg_return_trained)), avg_return_trained)\n",
    "axs[0].set_title('Average Return')\n",
    "\n",
    "axs[1].plot(range(len(avg_ep_trained)), avg_ep_trained, 'tab:orange')\n",
    "axs[1].set_title('Average Episode Length')\n",
    "\n",
    "for ax in axs.flat:\n",
    "    ax.set(xlabel='Number of Iterations', ylabel='Metric Value')"
   ]
  },
  {
   "cell_type": "markdown",
   "metadata": {
    "colab_type": "text",
    "id": "egz5gUqdmUcG"
   },
   "source": [
    "### Evaluate"
   ]
  },
  {
   "cell_type": "code",
   "execution_count": 26,
   "metadata": {
    "colab": {},
    "colab_type": "code",
    "id": "c_9Put0YmUcH"
   },
   "outputs": [],
   "source": [
    "def compute_avg_return(environment, policy, num_episodes=15):\n",
    "\n",
    "    total_return = 0.0\n",
    "    \n",
    "    for _ in range(num_episodes):\n",
    "        time_step = environment.reset()\n",
    "        episode_return = 0.0\n",
    "        \n",
    "        while not time_step.is_last():\n",
    "            action_step = policy.action(time_step)\n",
    "            time_step = environment.step(action_step.action)\n",
    "            episode_return += time_step.reward\n",
    "        \n",
    "        total_return += episode_return\n",
    "\n",
    "    avg_return = total_return / num_episodes\n",
    "    \n",
    "    return avg_return.numpy()[0]"
   ]
  },
  {
   "cell_type": "code",
   "execution_count": 27,
   "metadata": {
    "colab": {},
    "colab_type": "code",
    "id": "IdtDKDZ7mUcK"
   },
   "outputs": [
    {
     "data": {
      "text/plain": [
       "<tf.Variable 'UnreadVariable' shape=() dtype=int32, numpy=0>"
      ]
     },
     "execution_count": 27,
     "metadata": {},
     "output_type": "execute_result"
    }
   ],
   "source": [
    "# Reset the train step\n",
    "agent.train_step_counter.assign(0)"
   ]
  },
  {
   "cell_type": "code",
   "execution_count": 28,
   "metadata": {},
   "outputs": [
    {
     "data": {
      "text/plain": [
       "TimeStep(step_type=<tf.Tensor: shape=(1,), dtype=int32, numpy=array([0], dtype=int32)>, reward=<tf.Tensor: shape=(1,), dtype=float32, numpy=array([0.], dtype=float32)>, discount=<tf.Tensor: shape=(1,), dtype=float32, numpy=array([1.], dtype=float32)>, observation=<tf.Tensor: shape=(1, 225), dtype=int32, numpy=\n",
       "array([[0, 0, 0, 0, 1, 0, 0, 0, 0, 0, 0, 0, 0, 0, 0, 0, 0, 0, 0, 0, 0, 0,\n",
       "        0, 0, 0, 0, 0, 0, 0, 0, 0, 0, 0, 0, 0, 0, 2, 0, 0, 0, 0, 0, 0, 0,\n",
       "        0, 0, 0, 0, 2, 0, 0, 0, 0, 0, 0, 0, 0, 0, 0, 0, 0, 2, 0, 0, 0, 0,\n",
       "        0, 0, 0, 0, 0, 0, 0, 0, 0, 0, 0, 0, 0, 0, 0, 0, 0, 0, 0, 0, 0, 0,\n",
       "        0, 0, 0, 0, 0, 0, 0, 0, 0, 0, 0, 0, 0, 0, 0, 0, 0, 0, 2, 0, 0, 0,\n",
       "        0, 0, 0, 0, 0, 0, 0, 0, 0, 0, 0, 0, 0, 0, 3, 0, 0, 0, 0, 0, 0, 0,\n",
       "        0, 0, 0, 0, 0, 0, 0, 0, 0, 0, 0, 0, 0, 0, 0, 0, 0, 0, 0, 0, 0, 0,\n",
       "        0, 0, 0, 0, 2, 0, 0, 0, 0, 0, 0, 0, 0, 0, 0, 0, 0, 0, 0, 0, 0, 0,\n",
       "        0, 0, 0, 0, 0, 0, 0, 0, 0, 0, 0, 0, 0, 0, 0, 2, 0, 0, 0, 0, 0, 0,\n",
       "        0, 0, 0, 0, 0, 0, 0, 0, 0, 0, 0, 0, 0, 0, 0, 0, 0, 0, 0, 0, 0, 0,\n",
       "        0, 0, 0, 0, 0]], dtype=int32)>)"
      ]
     },
     "execution_count": 28,
     "metadata": {},
     "output_type": "execute_result"
    }
   ],
   "source": [
    "#reset eval environment\n",
    "eval_env.reset()"
   ]
  },
  {
   "cell_type": "code",
   "execution_count": 29,
   "metadata": {},
   "outputs": [],
   "source": [
    "# Evaluate the agent's policy once before training.\n",
    "avg_return = compute_avg_return(eval_env, agent.policy, 15)"
   ]
  },
  {
   "cell_type": "code",
   "execution_count": 30,
   "metadata": {
    "colab": {
     "base_uri": "https://localhost:8080/",
     "height": 34
    },
    "colab_type": "code",
    "id": "VWd9Q4I3mUcN",
    "outputId": "c7eff3dc-5126-4720-8135-f664d18e055c"
   },
   "outputs": [
    {
     "data": {
      "text/plain": [
       "107.0"
      ]
     },
     "execution_count": 30,
     "metadata": {},
     "output_type": "execute_result"
    }
   ],
   "source": [
    "avg_return"
   ]
  },
  {
   "cell_type": "markdown",
   "metadata": {
    "colab_type": "text",
    "id": "Dgm9B1eZmUcP"
   },
   "source": [
    "### Visualize Episode"
   ]
  },
  {
   "cell_type": "code",
   "execution_count": 31,
   "metadata": {
    "colab": {},
    "colab_type": "code",
    "id": "Nvm5Gf7XmUcV"
   },
   "outputs": [],
   "source": [
    "def observation_viz(observation):\n",
    "    numpy_obs = observation.numpy()[0]\n",
    "    string_obs = np.array(np.reshape(numpy_obs, (-1, PITCH_SIZE)), dtype=np.unicode_)\n",
    "    \n",
    "    for i in range(0, PITCH_SIZE): \n",
    "        if (string_obs[i][PITCH_SIZE - 1]) != str(PLAYER_TOKEN):\n",
    "            string_obs[i][PITCH_SIZE - 1] = \"🏁\"\n",
    "        if (string_obs[i][0]) != str(PLAYER_TOKEN):\n",
    "            string_obs[i][0] = \"🏁\"  \n",
    "\n",
    "    string_obs = np.where(string_obs == str(PLAYER_TOKEN),\"👦\", string_obs) \n",
    "    string_obs = np.where(string_obs == str(ENEMY_TOKEN),\"☠️\", string_obs)\n",
    "    string_obs = np.where(string_obs == str(BALL_TOKEN),\"🏈\", string_obs)\n",
    "    string_obs = np.where(string_obs == str(EMPTY_TOKEN),\"🟩\", string_obs)\n",
    "    observe_2d = pd.DataFrame(string_obs)\n",
    "    observe_2d.columns = [''] * len(observe_2d.columns)\n",
    "    observe_2d = observe_2d.to_string(index=False)\n",
    "    print(\"\\n{}\\n\".format(observe_2d))"
   ]
  },
  {
   "cell_type": "code",
   "execution_count": 32,
   "metadata": {
    "colab": {},
    "colab_type": "code",
    "id": "91GxXJkSmUcX"
   },
   "outputs": [],
   "source": [
    "def compute_viz(environment, policy, num_episodes=100):\n",
    "\n",
    "    total_return = 0.0\n",
    "    \n",
    "    for _ in range(num_episodes):\n",
    "        time_step = environment.reset()\n",
    "        episode_return = 0.0\n",
    "        step = 0\n",
    "        print(\"Step: 0\")\n",
    "        observation_viz(time_step.observation)\n",
    "        while not time_step.is_last():\n",
    "            step += 1\n",
    "            print(\"---\\nStep: {}\".format(step))\n",
    "            action_step = policy.action(time_step)\n",
    "            print(\"Action taken: {}\".format(action_step.action))\n",
    "            time_step = environment.step(action_step.action)\n",
    "            observation_viz(time_step.observation)\n",
    "            episode_return += time_step.reward\n",
    "            print(\"Reward: {} \\n\".format(episode_return))\n",
    "            print(\"Press ENTER for next step\")\n",
    "            input()\n",
    "        total_return += episode_return\n",
    "\n",
    "    avg_return = total_return / num_episodes\n",
    "    \n",
    "    return avg_return.numpy()[0]"
   ]
  },
  {
   "cell_type": "code",
   "execution_count": 35,
   "metadata": {
    "colab": {
     "base_uri": "https://localhost:8080/",
     "height": 1000
    },
    "colab_type": "code",
    "id": "1af70QWXmUcZ",
    "outputId": "c574a665-d22a-495f-d4b1-a0a69682cabf",
    "scrolled": false
   },
   "outputs": [
    {
     "name": "stdout",
     "output_type": "stream",
     "text": [
      "Step: 0\n",
      "\n",
      "                                                 \n",
      " 🏁   🟩  🟩   🟩  👦  🟩   🟩  🟩   🟩  🟩  🟩   🟩  🟩  🟩  🏁\n",
      " 🏁   🟩  🟩   🟩  🟩  🟩   🟩  🟩   🟩  🟩  🟩   🟩  🟩  🟩  🏁\n",
      " 🏁   🟩  🟩   🟩  🟩  🟩  ☠️  🟩   🟩  🟩  🟩   🟩  🟩  🟩  🏁\n",
      " 🏁   🟩  🟩  ☠️  🟩  🟩   🟩  🟩   🟩  🟩  🟩   🟩  🟩  🟩  🏁\n",
      " 🏁  ☠️  🟩   🟩  🟩  🟩   🟩  🟩   🟩  🟩  🟩   🟩  🟩  🟩  🏁\n",
      " 🏁   🟩  🟩   🟩  🟩  🟩   🟩  🟩   🟩  🟩  🟩   🟩  🟩  🟩  🏁\n",
      " 🏁   🟩  🟩   🟩  🟩  🟩   🟩  🟩   🟩  🟩  🟩   🟩  🟩  🟩  🏁\n",
      " 🏁  ☠️  🟩   🟩  🟩  🟩   🟩  🟩   🟩  🟩  🟩   🟩  🟩  🟩  🏁\n",
      " 🏁   🟩  🟩   🟩  🏈  🟩   🟩  🟩   🟩  🟩  🟩   🟩  🟩  🟩  🏁\n",
      " 🏁   🟩  🟩   🟩  🟩  🟩   🟩  🟩   🟩  🟩  🟩   🟩  🟩  🟩  🏁\n",
      " 🏁   🟩  🟩   🟩  🟩  🟩   🟩  🟩  ☠️  🟩  🟩   🟩  🟩  🟩  🏁\n",
      " 🏁   🟩  🟩   🟩  🟩  🟩   🟩  🟩   🟩  🟩  🟩   🟩  🟩  🟩  🏁\n",
      " 🏁   🟩  🟩   🟩  🟩  🟩   🟩  🟩   🟩  🟩  🟩  ☠️  🟩  🟩  🏁\n",
      " 🏁   🟩  🟩   🟩  🟩  🟩   🟩  🟩   🟩  🟩  🟩   🟩  🟩  🟩  🏁\n",
      " 🏁   🟩  🟩   🟩  🟩  🟩   🟩  🟩   🟩  🟩  🟩   🟩  🟩  🟩  🏁\n",
      "\n",
      "---\n",
      "Step: 1\n",
      "Action taken: [3]\n",
      "\n",
      "                                                 \n",
      " 🏁   🟩  🟩   🟩  🟩  🟩   🟩  🟩   🟩  🟩  🟩   🟩  🟩  🟩  🏁\n",
      " 🏁   🟩  🟩   🟩  👦  🟩   🟩  🟩   🟩  🟩  🟩   🟩  🟩  🟩  🏁\n",
      " 🏁   🟩  🟩   🟩  🟩  🟩  ☠️  🟩   🟩  🟩  🟩   🟩  🟩  🟩  🏁\n",
      " 🏁   🟩  🟩  ☠️  🟩  🟩   🟩  🟩   🟩  🟩  🟩   🟩  🟩  🟩  🏁\n",
      " 🏁  ☠️  🟩   🟩  🟩  🟩   🟩  🟩   🟩  🟩  🟩   🟩  🟩  🟩  🏁\n",
      " 🏁   🟩  🟩   🟩  🟩  🟩   🟩  🟩   🟩  🟩  🟩   🟩  🟩  🟩  🏁\n",
      " 🏁   🟩  🟩   🟩  🟩  🟩   🟩  🟩   🟩  🟩  🟩   🟩  🟩  🟩  🏁\n",
      " 🏁  ☠️  🟩   🟩  🟩  🟩   🟩  🟩   🟩  🟩  🟩   🟩  🟩  🟩  🏁\n",
      " 🏁   🟩  🟩   🟩  🏈  🟩   🟩  🟩   🟩  🟩  🟩   🟩  🟩  🟩  🏁\n",
      " 🏁   🟩  🟩   🟩  🟩  🟩   🟩  🟩   🟩  🟩  🟩   🟩  🟩  🟩  🏁\n",
      " 🏁   🟩  🟩   🟩  🟩  🟩   🟩  🟩  ☠️  🟩  🟩   🟩  🟩  🟩  🏁\n",
      " 🏁   🟩  🟩   🟩  🟩  🟩   🟩  🟩   🟩  🟩  🟩   🟩  🟩  🟩  🏁\n",
      " 🏁   🟩  🟩   🟩  🟩  🟩   🟩  🟩   🟩  🟩  🟩  ☠️  🟩  🟩  🏁\n",
      " 🏁   🟩  🟩   🟩  🟩  🟩   🟩  🟩   🟩  🟩  🟩   🟩  🟩  🟩  🏁\n",
      " 🏁   🟩  🟩   🟩  🟩  🟩   🟩  🟩   🟩  🟩  🟩   🟩  🟩  🟩  🏁\n",
      "\n",
      "Reward: [-0.3] \n",
      "\n",
      "Press ENTER for next step\n",
      "\n",
      "---\n",
      "Step: 2\n",
      "Action taken: [3]\n",
      "\n",
      "                                                 \n",
      " 🏁   🟩  🟩   🟩  🟩  🟩   🟩  🟩   🟩  🟩  🟩   🟩  🟩  🟩  🏁\n",
      " 🏁   🟩  🟩   🟩  🟩  🟩   🟩  🟩   🟩  🟩  🟩   🟩  🟩  🟩  🏁\n",
      " 🏁   🟩  🟩   🟩  👦  🟩  ☠️  🟩   🟩  🟩  🟩   🟩  🟩  🟩  🏁\n",
      " 🏁   🟩  🟩  ☠️  🟩  🟩   🟩  🟩   🟩  🟩  🟩   🟩  🟩  🟩  🏁\n",
      " 🏁  ☠️  🟩   🟩  🟩  🟩   🟩  🟩   🟩  🟩  🟩   🟩  🟩  🟩  🏁\n",
      " 🏁   🟩  🟩   🟩  🟩  🟩   🟩  🟩   🟩  🟩  🟩   🟩  🟩  🟩  🏁\n",
      " 🏁   🟩  🟩   🟩  🟩  🟩   🟩  🟩   🟩  🟩  🟩   🟩  🟩  🟩  🏁\n",
      " 🏁  ☠️  🟩   🟩  🟩  🟩   🟩  🟩   🟩  🟩  🟩   🟩  🟩  🟩  🏁\n",
      " 🏁   🟩  🟩   🟩  🏈  🟩   🟩  🟩   🟩  🟩  🟩   🟩  🟩  🟩  🏁\n",
      " 🏁   🟩  🟩   🟩  🟩  🟩   🟩  🟩   🟩  🟩  🟩   🟩  🟩  🟩  🏁\n",
      " 🏁   🟩  🟩   🟩  🟩  🟩   🟩  🟩  ☠️  🟩  🟩   🟩  🟩  🟩  🏁\n",
      " 🏁   🟩  🟩   🟩  🟩  🟩   🟩  🟩   🟩  🟩  🟩   🟩  🟩  🟩  🏁\n",
      " 🏁   🟩  🟩   🟩  🟩  🟩   🟩  🟩   🟩  🟩  🟩  ☠️  🟩  🟩  🏁\n",
      " 🏁   🟩  🟩   🟩  🟩  🟩   🟩  🟩   🟩  🟩  🟩   🟩  🟩  🟩  🏁\n",
      " 🏁   🟩  🟩   🟩  🟩  🟩   🟩  🟩   🟩  🟩  🟩   🟩  🟩  🟩  🏁\n",
      "\n",
      "Reward: [-0.6] \n",
      "\n",
      "Press ENTER for next step\n",
      "\n",
      "---\n",
      "Step: 3\n",
      "Action taken: [3]\n",
      "\n",
      "                                                 \n",
      " 🏁   🟩  🟩   🟩  🟩  🟩   🟩  🟩   🟩  🟩  🟩   🟩  🟩  🟩  🏁\n",
      " 🏁   🟩  🟩   🟩  🟩  🟩   🟩  🟩   🟩  🟩  🟩   🟩  🟩  🟩  🏁\n",
      " 🏁   🟩  🟩   🟩  🟩  🟩  ☠️  🟩   🟩  🟩  🟩   🟩  🟩  🟩  🏁\n",
      " 🏁   🟩  🟩  ☠️  👦  🟩   🟩  🟩   🟩  🟩  🟩   🟩  🟩  🟩  🏁\n",
      " 🏁  ☠️  🟩   🟩  🟩  🟩   🟩  🟩   🟩  🟩  🟩   🟩  🟩  🟩  🏁\n",
      " 🏁   🟩  🟩   🟩  🟩  🟩   🟩  🟩   🟩  🟩  🟩   🟩  🟩  🟩  🏁\n",
      " 🏁   🟩  🟩   🟩  🟩  🟩   🟩  🟩   🟩  🟩  🟩   🟩  🟩  🟩  🏁\n",
      " 🏁  ☠️  🟩   🟩  🟩  🟩   🟩  🟩   🟩  🟩  🟩   🟩  🟩  🟩  🏁\n",
      " 🏁   🟩  🟩   🟩  🏈  🟩   🟩  🟩   🟩  🟩  🟩   🟩  🟩  🟩  🏁\n",
      " 🏁   🟩  🟩   🟩  🟩  🟩   🟩  🟩   🟩  🟩  🟩   🟩  🟩  🟩  🏁\n",
      " 🏁   🟩  🟩   🟩  🟩  🟩   🟩  🟩  ☠️  🟩  🟩   🟩  🟩  🟩  🏁\n",
      " 🏁   🟩  🟩   🟩  🟩  🟩   🟩  🟩   🟩  🟩  🟩   🟩  🟩  🟩  🏁\n",
      " 🏁   🟩  🟩   🟩  🟩  🟩   🟩  🟩   🟩  🟩  🟩  ☠️  🟩  🟩  🏁\n",
      " 🏁   🟩  🟩   🟩  🟩  🟩   🟩  🟩   🟩  🟩  🟩   🟩  🟩  🟩  🏁\n",
      " 🏁   🟩  🟩   🟩  🟩  🟩   🟩  🟩   🟩  🟩  🟩   🟩  🟩  🟩  🏁\n",
      "\n",
      "Reward: [-0.90000004] \n",
      "\n",
      "Press ENTER for next step\n",
      "\n",
      "---\n",
      "Step: 4\n",
      "Action taken: [3]\n",
      "\n",
      "                                                 \n",
      " 🏁   🟩  🟩   🟩  🟩  🟩   🟩  🟩   🟩  🟩  🟩   🟩  🟩  🟩  🏁\n",
      " 🏁   🟩  🟩   🟩  🟩  🟩   🟩  🟩   🟩  🟩  🟩   🟩  🟩  🟩  🏁\n",
      " 🏁   🟩  🟩   🟩  🟩  🟩  ☠️  🟩   🟩  🟩  🟩   🟩  🟩  🟩  🏁\n",
      " 🏁   🟩  🟩  ☠️  🟩  🟩   🟩  🟩   🟩  🟩  🟩   🟩  🟩  🟩  🏁\n",
      " 🏁  ☠️  🟩   🟩  👦  🟩   🟩  🟩   🟩  🟩  🟩   🟩  🟩  🟩  🏁\n",
      " 🏁   🟩  🟩   🟩  🟩  🟩   🟩  🟩   🟩  🟩  🟩   🟩  🟩  🟩  🏁\n",
      " 🏁   🟩  🟩   🟩  🟩  🟩   🟩  🟩   🟩  🟩  🟩   🟩  🟩  🟩  🏁\n",
      " 🏁  ☠️  🟩   🟩  🟩  🟩   🟩  🟩   🟩  🟩  🟩   🟩  🟩  🟩  🏁\n",
      " 🏁   🟩  🟩   🟩  🏈  🟩   🟩  🟩   🟩  🟩  🟩   🟩  🟩  🟩  🏁\n",
      " 🏁   🟩  🟩   🟩  🟩  🟩   🟩  🟩   🟩  🟩  🟩   🟩  🟩  🟩  🏁\n",
      " 🏁   🟩  🟩   🟩  🟩  🟩   🟩  🟩  ☠️  🟩  🟩   🟩  🟩  🟩  🏁\n",
      " 🏁   🟩  🟩   🟩  🟩  🟩   🟩  🟩   🟩  🟩  🟩   🟩  🟩  🟩  🏁\n",
      " 🏁   🟩  🟩   🟩  🟩  🟩   🟩  🟩   🟩  🟩  🟩  ☠️  🟩  🟩  🏁\n",
      " 🏁   🟩  🟩   🟩  🟩  🟩   🟩  🟩   🟩  🟩  🟩   🟩  🟩  🟩  🏁\n",
      " 🏁   🟩  🟩   🟩  🟩  🟩   🟩  🟩   🟩  🟩  🟩   🟩  🟩  🟩  🏁\n",
      "\n",
      "Reward: [-1.2] \n",
      "\n",
      "Press ENTER for next step\n",
      "\n",
      "---\n",
      "Step: 5\n",
      "Action taken: [3]\n",
      "\n",
      "                                                 \n",
      " 🏁   🟩  🟩   🟩  🟩  🟩   🟩  🟩   🟩  🟩  🟩   🟩  🟩  🟩  🏁\n",
      " 🏁   🟩  🟩   🟩  🟩  🟩   🟩  🟩   🟩  🟩  🟩   🟩  🟩  🟩  🏁\n",
      " 🏁   🟩  🟩   🟩  🟩  🟩  ☠️  🟩   🟩  🟩  🟩   🟩  🟩  🟩  🏁\n",
      " 🏁   🟩  🟩  ☠️  🟩  🟩   🟩  🟩   🟩  🟩  🟩   🟩  🟩  🟩  🏁\n",
      " 🏁  ☠️  🟩   🟩  🟩  🟩   🟩  🟩   🟩  🟩  🟩   🟩  🟩  🟩  🏁\n",
      " 🏁   🟩  🟩   🟩  👦  🟩   🟩  🟩   🟩  🟩  🟩   🟩  🟩  🟩  🏁\n",
      " 🏁   🟩  🟩   🟩  🟩  🟩   🟩  🟩   🟩  🟩  🟩   🟩  🟩  🟩  🏁\n",
      " 🏁  ☠️  🟩   🟩  🟩  🟩   🟩  🟩   🟩  🟩  🟩   🟩  🟩  🟩  🏁\n",
      " 🏁   🟩  🟩   🟩  🏈  🟩   🟩  🟩   🟩  🟩  🟩   🟩  🟩  🟩  🏁\n",
      " 🏁   🟩  🟩   🟩  🟩  🟩   🟩  🟩   🟩  🟩  🟩   🟩  🟩  🟩  🏁\n",
      " 🏁   🟩  🟩   🟩  🟩  🟩   🟩  🟩  ☠️  🟩  🟩   🟩  🟩  🟩  🏁\n",
      " 🏁   🟩  🟩   🟩  🟩  🟩   🟩  🟩   🟩  🟩  🟩   🟩  🟩  🟩  🏁\n",
      " 🏁   🟩  🟩   🟩  🟩  🟩   🟩  🟩   🟩  🟩  🟩  ☠️  🟩  🟩  🏁\n",
      " 🏁   🟩  🟩   🟩  🟩  🟩   🟩  🟩   🟩  🟩  🟩   🟩  🟩  🟩  🏁\n",
      " 🏁   🟩  🟩   🟩  🟩  🟩   🟩  🟩   🟩  🟩  🟩   🟩  🟩  🟩  🏁\n",
      "\n",
      "Reward: [-1.5] \n",
      "\n",
      "Press ENTER for next step\n",
      "\n",
      "---\n",
      "Step: 6\n",
      "Action taken: [3]\n",
      "\n",
      "                                                 \n",
      " 🏁   🟩  🟩   🟩  🟩  🟩   🟩  🟩   🟩  🟩  🟩   🟩  🟩  🟩  🏁\n",
      " 🏁   🟩  🟩   🟩  🟩  🟩   🟩  🟩   🟩  🟩  🟩   🟩  🟩  🟩  🏁\n",
      " 🏁   🟩  🟩   🟩  🟩  🟩  ☠️  🟩   🟩  🟩  🟩   🟩  🟩  🟩  🏁\n",
      " 🏁   🟩  🟩  ☠️  🟩  🟩   🟩  🟩   🟩  🟩  🟩   🟩  🟩  🟩  🏁\n",
      " 🏁  ☠️  🟩   🟩  🟩  🟩   🟩  🟩   🟩  🟩  🟩   🟩  🟩  🟩  🏁\n",
      " 🏁   🟩  🟩   🟩  🟩  🟩   🟩  🟩   🟩  🟩  🟩   🟩  🟩  🟩  🏁\n",
      " 🏁   🟩  🟩   🟩  👦  🟩   🟩  🟩   🟩  🟩  🟩   🟩  🟩  🟩  🏁\n",
      " 🏁  ☠️  🟩   🟩  🟩  🟩   🟩  🟩   🟩  🟩  🟩   🟩  🟩  🟩  🏁\n",
      " 🏁   🟩  🟩   🟩  🏈  🟩   🟩  🟩   🟩  🟩  🟩   🟩  🟩  🟩  🏁\n",
      " 🏁   🟩  🟩   🟩  🟩  🟩   🟩  🟩   🟩  🟩  🟩   🟩  🟩  🟩  🏁\n",
      " 🏁   🟩  🟩   🟩  🟩  🟩   🟩  🟩  ☠️  🟩  🟩   🟩  🟩  🟩  🏁\n",
      " 🏁   🟩  🟩   🟩  🟩  🟩   🟩  🟩   🟩  🟩  🟩   🟩  🟩  🟩  🏁\n",
      " 🏁   🟩  🟩   🟩  🟩  🟩   🟩  🟩   🟩  🟩  🟩  ☠️  🟩  🟩  🏁\n",
      " 🏁   🟩  🟩   🟩  🟩  🟩   🟩  🟩   🟩  🟩  🟩   🟩  🟩  🟩  🏁\n",
      " 🏁   🟩  🟩   🟩  🟩  🟩   🟩  🟩   🟩  🟩  🟩   🟩  🟩  🟩  🏁\n",
      "\n",
      "Reward: [-1.8] \n",
      "\n",
      "Press ENTER for next step\n",
      "\n",
      "---\n",
      "Step: 7\n",
      "Action taken: [3]\n",
      "\n",
      "                                                 \n",
      " 🏁   🟩  🟩   🟩  🟩  🟩   🟩  🟩   🟩  🟩  🟩   🟩  🟩  🟩  🏁\n",
      " 🏁   🟩  🟩   🟩  🟩  🟩   🟩  🟩   🟩  🟩  🟩   🟩  🟩  🟩  🏁\n",
      " 🏁   🟩  🟩   🟩  🟩  🟩  ☠️  🟩   🟩  🟩  🟩   🟩  🟩  🟩  🏁\n",
      " 🏁   🟩  🟩  ☠️  🟩  🟩   🟩  🟩   🟩  🟩  🟩   🟩  🟩  🟩  🏁\n",
      " 🏁  ☠️  🟩   🟩  🟩  🟩   🟩  🟩   🟩  🟩  🟩   🟩  🟩  🟩  🏁\n",
      " 🏁   🟩  🟩   🟩  🟩  🟩   🟩  🟩   🟩  🟩  🟩   🟩  🟩  🟩  🏁\n",
      " 🏁   🟩  🟩   🟩  🟩  🟩   🟩  🟩   🟩  🟩  🟩   🟩  🟩  🟩  🏁\n",
      " 🏁  ☠️  🟩   🟩  👦  🟩   🟩  🟩   🟩  🟩  🟩   🟩  🟩  🟩  🏁\n",
      " 🏁   🟩  🟩   🟩  🏈  🟩   🟩  🟩   🟩  🟩  🟩   🟩  🟩  🟩  🏁\n",
      " 🏁   🟩  🟩   🟩  🟩  🟩   🟩  🟩   🟩  🟩  🟩   🟩  🟩  🟩  🏁\n",
      " 🏁   🟩  🟩   🟩  🟩  🟩   🟩  🟩  ☠️  🟩  🟩   🟩  🟩  🟩  🏁\n",
      " 🏁   🟩  🟩   🟩  🟩  🟩   🟩  🟩   🟩  🟩  🟩   🟩  🟩  🟩  🏁\n",
      " 🏁   🟩  🟩   🟩  🟩  🟩   🟩  🟩   🟩  🟩  🟩  ☠️  🟩  🟩  🏁\n",
      " 🏁   🟩  🟩   🟩  🟩  🟩   🟩  🟩   🟩  🟩  🟩   🟩  🟩  🟩  🏁\n",
      " 🏁   🟩  🟩   🟩  🟩  🟩   🟩  🟩   🟩  🟩  🟩   🟩  🟩  🟩  🏁\n",
      "\n",
      "Reward: [-2.1] \n",
      "\n",
      "Press ENTER for next step\n"
     ]
    },
    {
     "name": "stdout",
     "output_type": "stream",
     "text": [
      "\n",
      "---\n",
      "Step: 8\n",
      "Action taken: [3]\n",
      "\n",
      "                                                 \n",
      " 🏁   🟩  🟩   🟩  🟩  🟩   🟩  🟩   🟩  🟩  🟩   🟩  🟩  🟩  🏁\n",
      " 🏁   🟩  🟩   🟩  🟩  🟩   🟩  🟩   🟩  🟩  🟩   🟩  🟩  🟩  🏁\n",
      " 🏁   🟩  🟩   🟩  🟩  🟩  ☠️  🟩   🟩  🟩  🟩   🟩  🟩  🟩  🏁\n",
      " 🏁   🟩  🟩  ☠️  🟩  🟩   🟩  🟩   🟩  🟩  🟩   🟩  🟩  🟩  🏁\n",
      " 🏁  ☠️  🟩   🟩  🟩  🟩   🟩  🟩   🟩  🟩  🟩   🟩  🟩  🟩  🏁\n",
      " 🏁   🟩  🟩   🟩  🟩  🟩   🟩  🟩   🟩  🟩  🟩   🟩  🟩  🟩  🏁\n",
      " 🏁   🟩  🟩   🟩  🟩  🟩   🟩  🟩   🟩  🟩  🟩   🟩  🟩  🟩  🏁\n",
      " 🏁  ☠️  🟩   🟩  🟩  🟩   🟩  🟩   🟩  🟩  🟩   🟩  🟩  🟩  🏁\n",
      " 🏁   🟩  🟩   🟩  👦  🟩   🟩  🟩   🟩  🟩  🟩   🟩  🟩  🟩  🏁\n",
      " 🏁   🟩  🟩   🟩  🟩  🟩   🟩  🟩   🟩  🟩  🟩   🟩  🟩  🟩  🏁\n",
      " 🏁   🟩  🟩   🟩  🟩  🟩   🟩  🟩  ☠️  🟩  🟩   🟩  🟩  🟩  🏁\n",
      " 🏁   🟩  🟩   🟩  🟩  🟩   🟩  🟩   🟩  🟩  🟩   🟩  🟩  🟩  🏁\n",
      " 🏁   🟩  🟩   🟩  🟩  🟩   🟩  🟩   🟩  🟩  🟩  ☠️  🟩  🟩  🏁\n",
      " 🏁   🟩  🟩   🟩  🟩  🟩   🟩  🟩   🟩  🟩  🟩   🟩  🟩  🟩  🏁\n",
      " 🏁   🟩  🟩   🟩  🟩  🟩   🟩  🟩   🟩  🟩  🟩   🟩  🟩  🟩  🏁\n",
      "\n",
      "Reward: [7.9] \n",
      "\n",
      "Press ENTER for next step\n",
      "\n",
      "---\n",
      "Step: 9\n",
      "Action taken: [0]\n",
      "\n",
      "                                                 \n",
      " 🏁   🟩  🟩   🟩  🟩  🟩   🟩  🟩   🟩  🟩  🟩   🟩  🟩  🟩  🏁\n",
      " 🏁   🟩  🟩   🟩  🟩  🟩   🟩  🟩   🟩  🟩  🟩   🟩  🟩  🟩  🏁\n",
      " 🏁   🟩  🟩   🟩  🟩  🟩  ☠️  🟩   🟩  🟩  🟩   🟩  🟩  🟩  🏁\n",
      " 🏁   🟩  🟩  ☠️  🟩  🟩   🟩  🟩   🟩  🟩  🟩   🟩  🟩  🟩  🏁\n",
      " 🏁  ☠️  🟩   🟩  🟩  🟩   🟩  🟩   🟩  🟩  🟩   🟩  🟩  🟩  🏁\n",
      " 🏁   🟩  🟩   🟩  🟩  🟩   🟩  🟩   🟩  🟩  🟩   🟩  🟩  🟩  🏁\n",
      " 🏁   🟩  🟩   🟩  🟩  🟩   🟩  🟩   🟩  🟩  🟩   🟩  🟩  🟩  🏁\n",
      " 🏁  ☠️  🟩   🟩  🟩  🟩   🟩  🟩   🟩  🟩  🟩   🟩  🟩  🟩  🏁\n",
      " 🏁   🟩  🟩   👦  🟩  🟩   🟩  🟩   🟩  🟩  🟩   🟩  🟩  🟩  🏁\n",
      " 🏁   🟩  🟩   🟩  🟩  🟩   🟩  🟩   🟩  🟩  🟩   🟩  🟩  🟩  🏁\n",
      " 🏁   🟩  🟩   🟩  🟩  🟩   🟩  🟩  ☠️  🟩  🟩   🟩  🟩  🟩  🏁\n",
      " 🏁   🟩  🟩   🟩  🟩  🟩   🟩  🟩   🟩  🟩  🟩   🟩  🟩  🟩  🏁\n",
      " 🏁   🟩  🟩   🟩  🟩  🟩   🟩  🟩   🟩  🟩  🟩  ☠️  🟩  🟩  🏁\n",
      " 🏁   🟩  🟩   🟩  🟩  🟩   🟩  🟩   🟩  🟩  🟩   🟩  🟩  🟩  🏁\n",
      " 🏁   🟩  🟩   🟩  🟩  🟩   🟩  🟩   🟩  🟩  🟩   🟩  🟩  🟩  🏁\n",
      "\n",
      "Reward: [7.6] \n",
      "\n",
      "Press ENTER for next step\n",
      "\n",
      "---\n",
      "Step: 10\n",
      "Action taken: [0]\n",
      "\n",
      "                                                 \n",
      " 🏁   🟩  🟩   🟩  🟩  🟩   🟩  🟩   🟩  🟩  🟩   🟩  🟩  🟩  🏁\n",
      " 🏁   🟩  🟩   🟩  🟩  🟩   🟩  🟩   🟩  🟩  🟩   🟩  🟩  🟩  🏁\n",
      " 🏁   🟩  🟩   🟩  🟩  🟩  ☠️  🟩   🟩  🟩  🟩   🟩  🟩  🟩  🏁\n",
      " 🏁   🟩  🟩  ☠️  🟩  🟩   🟩  🟩   🟩  🟩  🟩   🟩  🟩  🟩  🏁\n",
      " 🏁  ☠️  🟩   🟩  🟩  🟩   🟩  🟩   🟩  🟩  🟩   🟩  🟩  🟩  🏁\n",
      " 🏁   🟩  🟩   🟩  🟩  🟩   🟩  🟩   🟩  🟩  🟩   🟩  🟩  🟩  🏁\n",
      " 🏁   🟩  🟩   🟩  🟩  🟩   🟩  🟩   🟩  🟩  🟩   🟩  🟩  🟩  🏁\n",
      " 🏁  ☠️  🟩   🟩  🟩  🟩   🟩  🟩   🟩  🟩  🟩   🟩  🟩  🟩  🏁\n",
      " 🏁   🟩  👦   🟩  🟩  🟩   🟩  🟩   🟩  🟩  🟩   🟩  🟩  🟩  🏁\n",
      " 🏁   🟩  🟩   🟩  🟩  🟩   🟩  🟩   🟩  🟩  🟩   🟩  🟩  🟩  🏁\n",
      " 🏁   🟩  🟩   🟩  🟩  🟩   🟩  🟩  ☠️  🟩  🟩   🟩  🟩  🟩  🏁\n",
      " 🏁   🟩  🟩   🟩  🟩  🟩   🟩  🟩   🟩  🟩  🟩   🟩  🟩  🟩  🏁\n",
      " 🏁   🟩  🟩   🟩  🟩  🟩   🟩  🟩   🟩  🟩  🟩  ☠️  🟩  🟩  🏁\n",
      " 🏁   🟩  🟩   🟩  🟩  🟩   🟩  🟩   🟩  🟩  🟩   🟩  🟩  🟩  🏁\n",
      " 🏁   🟩  🟩   🟩  🟩  🟩   🟩  🟩   🟩  🟩  🟩   🟩  🟩  🟩  🏁\n",
      "\n",
      "Reward: [7.2999997] \n",
      "\n",
      "Press ENTER for next step\n",
      "\n",
      "---\n",
      "Step: 11\n",
      "Action taken: [0]\n",
      "\n",
      "                                                 \n",
      " 🏁   🟩  🟩   🟩  🟩  🟩   🟩  🟩   🟩  🟩  🟩   🟩  🟩  🟩  🏁\n",
      " 🏁   🟩  🟩   🟩  🟩  🟩   🟩  🟩   🟩  🟩  🟩   🟩  🟩  🟩  🏁\n",
      " 🏁   🟩  🟩   🟩  🟩  🟩  ☠️  🟩   🟩  🟩  🟩   🟩  🟩  🟩  🏁\n",
      " 🏁   🟩  🟩  ☠️  🟩  🟩   🟩  🟩   🟩  🟩  🟩   🟩  🟩  🟩  🏁\n",
      " 🏁  ☠️  🟩   🟩  🟩  🟩   🟩  🟩   🟩  🟩  🟩   🟩  🟩  🟩  🏁\n",
      " 🏁   🟩  🟩   🟩  🟩  🟩   🟩  🟩   🟩  🟩  🟩   🟩  🟩  🟩  🏁\n",
      " 🏁   🟩  🟩   🟩  🟩  🟩   🟩  🟩   🟩  🟩  🟩   🟩  🟩  🟩  🏁\n",
      " 🏁  ☠️  🟩   🟩  🟩  🟩   🟩  🟩   🟩  🟩  🟩   🟩  🟩  🟩  🏁\n",
      " 🏁   👦  🟩   🟩  🟩  🟩   🟩  🟩   🟩  🟩  🟩   🟩  🟩  🟩  🏁\n",
      " 🏁   🟩  🟩   🟩  🟩  🟩   🟩  🟩   🟩  🟩  🟩   🟩  🟩  🟩  🏁\n",
      " 🏁   🟩  🟩   🟩  🟩  🟩   🟩  🟩  ☠️  🟩  🟩   🟩  🟩  🟩  🏁\n",
      " 🏁   🟩  🟩   🟩  🟩  🟩   🟩  🟩   🟩  🟩  🟩   🟩  🟩  🟩  🏁\n",
      " 🏁   🟩  🟩   🟩  🟩  🟩   🟩  🟩   🟩  🟩  🟩  ☠️  🟩  🟩  🏁\n",
      " 🏁   🟩  🟩   🟩  🟩  🟩   🟩  🟩   🟩  🟩  🟩   🟩  🟩  🟩  🏁\n",
      " 🏁   🟩  🟩   🟩  🟩  🟩   🟩  🟩   🟩  🟩  🟩   🟩  🟩  🟩  🏁\n",
      "\n",
      "Reward: [6.9999995] \n",
      "\n",
      "Press ENTER for next step\n",
      "\n",
      "---\n",
      "Step: 12\n",
      "Action taken: [0]\n",
      "\n",
      "                                                 \n",
      " 🏁   🟩  🟩   🟩  🟩  🟩   🟩  🟩   🟩  🟩  🟩   🟩  🟩  🟩  🏁\n",
      " 🏁   🟩  🟩   🟩  🟩  🟩   🟩  🟩   🟩  🟩  🟩   🟩  🟩  🟩  🏁\n",
      " 🏁   🟩  🟩   🟩  🟩  🟩  ☠️  🟩   🟩  🟩  🟩   🟩  🟩  🟩  🏁\n",
      " 🏁   🟩  🟩  ☠️  🟩  🟩   🟩  🟩   🟩  🟩  🟩   🟩  🟩  🟩  🏁\n",
      " 🏁  ☠️  🟩   🟩  🟩  🟩   🟩  🟩   🟩  🟩  🟩   🟩  🟩  🟩  🏁\n",
      " 🏁   🟩  🟩   🟩  🟩  🟩   🟩  🟩   🟩  🟩  🟩   🟩  🟩  🟩  🏁\n",
      " 🏁   🟩  🟩   🟩  🟩  🟩   🟩  🟩   🟩  🟩  🟩   🟩  🟩  🟩  🏁\n",
      " 🏁  ☠️  🟩   🟩  🟩  🟩   🟩  🟩   🟩  🟩  🟩   🟩  🟩  🟩  🏁\n",
      " 👦   🟩  🟩   🟩  🟩  🟩   🟩  🟩   🟩  🟩  🟩   🟩  🟩  🟩  🏁\n",
      " 🏁   🟩  🟩   🟩  🟩  🟩   🟩  🟩   🟩  🟩  🟩   🟩  🟩  🟩  🏁\n",
      " 🏁   🟩  🟩   🟩  🟩  🟩   🟩  🟩  ☠️  🟩  🟩   🟩  🟩  🟩  🏁\n",
      " 🏁   🟩  🟩   🟩  🟩  🟩   🟩  🟩   🟩  🟩  🟩   🟩  🟩  🟩  🏁\n",
      " 🏁   🟩  🟩   🟩  🟩  🟩   🟩  🟩   🟩  🟩  🟩  ☠️  🟩  🟩  🏁\n",
      " 🏁   🟩  🟩   🟩  🟩  🟩   🟩  🟩   🟩  🟩  🟩   🟩  🟩  🟩  🏁\n",
      " 🏁   🟩  🟩   🟩  🟩  🟩   🟩  🟩   🟩  🟩  🟩   🟩  🟩  🟩  🏁\n",
      "\n",
      "Reward: [107.] \n",
      "\n",
      "Press ENTER for next step\n",
      "\n"
     ]
    }
   ],
   "source": [
    "# Reset the train step\n",
    "agent.train_step_counter.assign(0)\n",
    "\n",
    "#reset eval environment\n",
    "eval_env.reset()\n",
    "\n",
    "# Evaluate the agent's policy once before training.\n",
    "avg_return = compute_viz(eval_env, agent.policy, 1)"
   ]
  },
  {
   "cell_type": "markdown",
   "metadata": {},
   "source": [
    "Algoritmo general - Juego por turnos\n",
    "1. Generar estado del juego\n",
    "2. Entrenar y ejecutar un numero de pasos igual al MA\n",
    "3. Exportar estado"
   ]
  },
  {
   "cell_type": "code",
   "execution_count": null,
   "metadata": {},
   "outputs": [],
   "source": []
  }
 ],
 "metadata": {
  "colab": {
   "collapsed_sections": [],
   "name": "(Colab) Train your dog using TF-Agents",
   "provenance": []
  },
  "kernelspec": {
   "display_name": "Python 3",
   "language": "python",
   "name": "python3"
  },
  "language_info": {
   "codemirror_mode": {
    "name": "ipython",
    "version": 3
   },
   "file_extension": ".py",
   "mimetype": "text/x-python",
   "name": "python",
   "nbconvert_exporter": "python",
   "pygments_lexer": "ipython3",
   "version": "3.7.4"
  }
 },
 "nbformat": 4,
 "nbformat_minor": 1
}
